{
 "cells": [
  {
   "cell_type": "code",
   "execution_count": 132,
   "metadata": {},
   "outputs": [],
   "source": [
    "import pandas as pd\n",
    "import sklearn.manifold, sklearn.preprocessing, sklearn.decomposition\n",
    "import numpy as np\n",
    "import tqdm\n",
    "import librosa\n",
    "import matplotlib.pyplot as plt\n",
    "from ipywidgets import interact, interactive, fixed, interact_manual\n",
    "import ipywidgets as widgets\n",
    "\n",
    "import sys; sys.path.insert(0, '..')\n",
    "\n",
    "import src\n",
    "# from src.dataset.dataset import get_dataset"
   ]
  },
  {
   "cell_type": "code",
   "execution_count": 137,
   "metadata": {},
   "outputs": [],
   "source": [
    "config = {\n",
    "    'frame_size': 2048,\n",
    "    'hop_ratio': 1,\n",
    "    'n_coeff': 20,\n",
    "    'sr': 10000,\n",
    "    'sample_duration': 5,\n",
    "    'feature': 'MFCC_welch',\n",
    "}\n",
    "\n",
    "data = pd.read_pickle('../data/processed/dataset_cremona.pkl')\n",
    "\n",
    "def get_dataset(sample_duration=5):\n",
    "    config['sample_duration'] = sample_duration\n",
    "    features = []\n",
    "    config['hop_size'] = config['frame_size'] // config['hop_ratio']\n",
    "    for index, row in data.iterrows():\n",
    "        y, _ = librosa.load(str(row['file']), sr=config['sr'])\n",
    "        ltas = librosa.stft(y=y, n_fft=config['frame_size'], hop_length=config['hop_size']).T\n",
    "        ltas = np.log10(np.abs(ltas) ** 2 + 1e-15)\n",
    "        np.random.shuffle(ltas)\n",
    "\n",
    "        part_size = config['sr'] * config['sample_duration'] // config['hop_size']\n",
    "        for part in np.array_split(ltas, np.arange(part_size, ltas.shape[0], part_size)):\n",
    "            feature = np.median(part, axis=0)\n",
    "            dic = row.to_dict()\n",
    "            dic.update(\n",
    "                features=feature,\n",
    "            )\n",
    "            features.append(dic)\n",
    "\n",
    "    features = pd.DataFrame(features)\n",
    "    X = np.vstack(features.features)\n",
    "    y = sklearn.preprocessing.LabelEncoder().fit_transform(features.violin)\n",
    "    features.violin = y\n",
    "\n",
    "    return X, y"
   ]
  },
  {
   "cell_type": "code",
   "execution_count": 141,
   "metadata": {},
   "outputs": [
    {
     "data": {
      "application/vnd.jupyter.widget-view+json": {
       "model_id": "423bc56360d1415395362bb23bb062f6",
       "version_major": 2,
       "version_minor": 0
      },
      "text/plain": [
       "interactive(children=(IntSlider(value=5, description='n_neighbors', min=2), IntSlider(value=5, description='sa…"
      ]
     },
     "metadata": {},
     "output_type": "display_data"
    }
   ],
   "source": [
    "@interact(n_neighbors=(2,100,1), sample_duration=(1,30,1))\n",
    "def plot(n_neighbors=5, sample_duration=5):\n",
    "    X, y = get_dataset(sample_duration=sample_duration)\n",
    "\n",
    "    # embedding = sklearn.manifold.Isomap(n_components=2, n_neighbors=n_neighbors)\n",
    "    embedding = sklearn.manifold.TSNE(n_components=2, max_iter=50000)\n",
    "    # embedding = sklearn.manifold.MDS(n_components=2, max_iter=500)\n",
    "    # embedding = sklearn.decomposition.PCA(n_components=2)\n",
    "    X_transformed = embedding.fit_transform(X)\n",
    "    X_transformed = sklearn.preprocessing.MinMaxScaler().fit_transform(X_transformed)\n",
    "\n",
    "    fig, ax = plt.subplots(figsize=(8,8))\n",
    "    # ax = fig.add_subplot(projection='3d')\n",
    "\n",
    "    for violin in set(features.violin):\n",
    "        ax.scatter(*X_transformed[y == violin].T,\n",
    "            color=plt.cm.Spectral(violin / 16),\n",
    "            # marker=f\"${violin}$\",\n",
    "        )\n",
    "    # ax.colorbar()\n",
    "    plt.show()"
   ]
  },
  {
   "cell_type": "code",
   "execution_count": null,
   "metadata": {},
   "outputs": [],
   "source": []
  }
 ],
 "metadata": {
  "kernelspec": {
   "display_name": "venv",
   "language": "python",
   "name": "python3"
  },
  "language_info": {
   "codemirror_mode": {
    "name": "ipython",
    "version": 3
   },
   "file_extension": ".py",
   "mimetype": "text/x-python",
   "name": "python",
   "nbconvert_exporter": "python",
   "pygments_lexer": "ipython3",
   "version": "3.12.9"
  }
 },
 "nbformat": 4,
 "nbformat_minor": 2
}
