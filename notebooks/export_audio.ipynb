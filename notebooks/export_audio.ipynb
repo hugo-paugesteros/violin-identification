{
 "cells": [
  {
   "cell_type": "code",
   "execution_count": 3,
   "metadata": {},
   "outputs": [
    {
     "name": "stderr",
     "output_type": "stream",
     "text": [
      "100%|██████████| 1183/1183 [00:43<00:00, 26.98it/s]\n"
     ]
    }
   ],
   "source": [
    "import sklearn.neighbors, sklearn.pipeline, sklearn.preprocessing, sklearn.svm, sklearn.model_selection, sklearn.neural_network\n",
    "import pandas as pd\n",
    "import numpy as np\n",
    "import sys; sys.path.append('../../identification');\n",
    "import tqdm\n",
    "import librosa\n",
    "import scipy.io\n",
    "\n",
    "from src.dataset.dataset import Dataset\n",
    "\n",
    "## Dataset\n",
    "df = pd.read_pickle('../data/processed/dataset_cnsm.pkl')\n",
    "df = df[(df.violin.isin(['A', 'B', 'C']))]\n",
    "\n",
    "data = []\n",
    "for index, row in tqdm.tqdm(df.iterrows(), total=df.shape[0]):\n",
    "    # offset = None\n",
    "    # duration = None\n",
    "    offset      = row['start']\n",
    "    duration    = row['end'] - offset\n",
    "    y, sr        = librosa.load(str(row['file']), sr=44100, offset=offset, duration=duration)\n",
    "    scipy.io.wavfile.write(f'../data/processed/{row['violin']}-{row['player']}-{row['extract']}-{row['session']}.wav', sr, y)"
   ]
  }
 ],
 "metadata": {
  "kernelspec": {
   "display_name": "venv",
   "language": "python",
   "name": "python3"
  },
  "language_info": {
   "codemirror_mode": {
    "name": "ipython",
    "version": 3
   },
   "file_extension": ".py",
   "mimetype": "text/x-python",
   "name": "python",
   "nbconvert_exporter": "python",
   "pygments_lexer": "ipython3",
   "version": "3.12.9"
  }
 },
 "nbformat": 4,
 "nbformat_minor": 2
}
